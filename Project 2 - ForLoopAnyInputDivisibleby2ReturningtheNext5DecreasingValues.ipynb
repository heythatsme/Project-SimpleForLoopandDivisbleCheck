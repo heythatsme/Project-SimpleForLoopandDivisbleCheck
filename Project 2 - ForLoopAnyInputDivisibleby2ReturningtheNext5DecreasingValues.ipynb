{
 "cells": [
  {
   "cell_type": "markdown",
   "metadata": {},
   "source": [
    "# Robbie's Problem\n",
    "\n",
    "Problem statement: I want you to create a code that takes in any interger input, checks if it is divisible by 2, and loops that input returning the next 5 decreasing values"
   ]
  },
  {
   "cell_type": "markdown",
   "metadata": {},
   "source": [
    "### Final Draft  - Solution 1"
   ]
  },
  {
   "cell_type": "code",
   "execution_count": 8,
   "metadata": {},
   "outputs": [
    {
     "name": "stdout",
     "output_type": "stream",
     "text": [
      "Enter in an integer: 3\n",
      "5\n",
      "4\n",
      "3\n",
      "2\n",
      "1\n",
      "Not divisble by 2.\n",
      "3\n",
      "2\n",
      "1\n",
      "0\n",
      "-1\n",
      "-2\n"
     ]
    }
   ],
   "source": [
    "import time\n",
    "\n",
    "def nextdescendingfive():\n",
    "    x = 0\n",
    "    while x < 6:\n",
    "        print(n-x)\n",
    "        if x == 5: \n",
    "            break\n",
    "        x += 1\n",
    "\n",
    "n = int(input(\"Enter in an integer: \"))\n",
    "\n",
    "for i in range(5,0,-1):\n",
    "    print(i)\n",
    "    time.sleep(0.5)\n",
    "    \n",
    "if n < 0:\n",
    "    n = 0\n",
    "    print('Negative changed to zero.')\n",
    "    \n",
    "elif n == 2:\n",
    "    print('Divisible by 2!')\n",
    "    \n",
    "else:\n",
    "    print('Not divisble by 2.')\n",
    "\n",
    "\n",
    "nextdescendingfive()"
   ]
  },
  {
   "cell_type": "markdown",
   "metadata": {},
   "source": [
    "### Final Draft  - Solution 2"
   ]
  },
  {
   "cell_type": "code",
   "execution_count": 9,
   "metadata": {},
   "outputs": [
    {
     "name": "stdout",
     "output_type": "stream",
     "text": [
      "Enter in an integer: 3\n",
      "5\n",
      "4\n",
      "3\n",
      "2\n",
      "1\n",
      "Not divisble by 2.\n",
      "3\n",
      "2\n",
      "1\n",
      "0\n",
      "-1\n",
      "-2\n"
     ]
    }
   ],
   "source": [
    "import time\n",
    "\n",
    "n = int(input(\"Enter in an integer: \"))\n",
    "\n",
    "for i in range(5,0,-1):\n",
    "    print(i)\n",
    "    time.sleep(0.5)\n",
    "    \n",
    "if n < 0:\n",
    "    n = 0\n",
    "    print('Negative changed to zero.')\n",
    "    \n",
    "elif n == 2:\n",
    "    print('Divisible by 2!')\n",
    "    \n",
    "else:\n",
    "    print('Not divisble by 2.')\n",
    "\n",
    "\n",
    "for k in range(6):\n",
    "        print(n-k)"
   ]
  },
  {
   "cell_type": "markdown",
   "metadata": {},
   "source": [
    "## Goofing/Testing/Rough Drafting"
   ]
  },
  {
   "cell_type": "code",
   "execution_count": null,
   "metadata": {},
   "outputs": [],
   "source": [
    "#Input a number and print our the next 5 numbers in descending order\n",
    "integer = int(input())\n",
    "\n",
    "for x in range(-5):\n",
    "    x = int(input()) - 1\n",
    "print(\"{}\".format(x))\n",
    "    \n"
   ]
  },
  {
   "cell_type": "code",
   "execution_count": 8,
   "metadata": {},
   "outputs": [
    {
     "name": "stdout",
     "output_type": "stream",
     "text": [
      "348032402384\n",
      "\n",
      "348032402383\n",
      "348032402382\n",
      "348032402381\n",
      "348032402380\n",
      "348032402379\n"
     ]
    }
   ],
   "source": [
    "#Input a number and print our the next 5 numbers in descending order\n",
    "import math\n",
    "\n",
    "integer = int(input())\n",
    "intege = integer - 1\n",
    "integ = intege - 1\n",
    "inte = integ - 1\n",
    "intee = inte - 1\n",
    "inteer = intee - 1\n",
    "\n",
    "print()\n",
    "print(intege)\n",
    "print(integ)\n",
    "print(inte)\n",
    "print(intee)\n",
    "print(inteer)\n",
    "\n",
    "#print 1st five digits divisile by 2 of countdown\n",
    "#needs a for loop"
   ]
  },
  {
   "cell_type": "code",
   "execution_count": null,
   "metadata": {},
   "outputs": [],
   "source": [
    "#Input a number and print our the next 5 numbers in descending order\n",
    "import math\n",
    "\n",
    "integer = int(input())\n",
    "intege = integer - 1\n",
    "integ = intege - 1\n",
    "inte = integ - 1\n",
    "intee = inte - 1\n",
    "inteer = intee - 1\n",
    "\n",
    "print()\n",
    "print(intege)\n",
    "print(integ)\n",
    "print(inte)\n",
    "print(intee)\n",
    "print(inteer)\n",
    "\n",
    "#print 1st five digits divisile by 2 of countdown\n",
    "#needs a for loop"
   ]
  },
  {
   "cell_type": "code",
   "execution_count": 9,
   "metadata": {},
   "outputs": [
    {
     "name": "stdout",
     "output_type": "stream",
     "text": [
      "[10, 20, 30, 40, 50]\n",
      "[0.1, 10.12, 10.23, 11.0, 20.45]\n",
      "['Apple', 'Banana', 'Cat', 'Dog', 'Fish']\n"
     ]
    }
   ],
   "source": [
    "#Python list.sort() Method\n",
    "#sort() is a inbuilt method in Python, it is used to sort the elements/objects of the list in Ascending and \n",
    "#Descending Order.\n",
    "\n",
    "#Sorting elements in Ascending Order (list.sort())\n",
    "#Syntax:\n",
    "#list.sort()\n",
    "\n",
    "#Program to sort list elements in Ascending Order\n",
    "## List of integers\n",
    "num = [10, 30, 40, 20, 50]\n",
    "\n",
    "# sorting and printing \n",
    "num.sort()\n",
    "print (num)\n",
    "\n",
    "# List of float numbers\n",
    "fnum = [10.23, 10.12, 20.45, 11.00, 0.1]\n",
    "\n",
    "# sorting and printing\n",
    "fnum.sort()\n",
    "print (fnum)\n",
    "\n",
    "# List of strings \n",
    "str = [\"Banana\", \"Cat\", \"Apple\", \"Dog\", \"Fish\"]\n",
    "\n",
    "# sorting and  printing\n",
    "str.sort()\n",
    "print (str)"
   ]
  },
  {
   "cell_type": "code",
   "execution_count": 10,
   "metadata": {},
   "outputs": [
    {
     "name": "stdout",
     "output_type": "stream",
     "text": [
      "[50, 40, 30, 20, 10]\n",
      "[20.45, 11.0, 10.23, 10.12, 0.1]\n",
      "['Fish', 'Dog', 'Cat', 'Banana', 'Apple']\n"
     ]
    }
   ],
   "source": [
    "#Sorting in Descending Order (list.sort(reverse=True))\n",
    "#To sort a list in descending order, we pass reverse=True as an argument with sort() method.\n",
    "\n",
    "#Syntax:\n",
    "#list.sort(reverse=True)\n",
    "\n",
    "#Program to sort list elements in Descending Order\n",
    "# List of integers\n",
    "num = [10, 30, 40, 20, 50]\n",
    "\n",
    "# sorting and printing \n",
    "num.sort(reverse=True)\n",
    "print (num)\n",
    "\n",
    "# List of float numbers\n",
    "fnum = [10.23, 10.12, 20.45, 11.00, 0.1]\n",
    "\n",
    "# sorting and printing\n",
    "fnum.sort(reverse=True)\n",
    "print (fnum)\n",
    "\n",
    "# List of strings \n",
    "str = [\"Banana\", \"Cat\", \"Apple\", \"Dog\", \"Fish\"]\n",
    "\n",
    "# sorting and  printing\n",
    "str.sort(reverse=True)\n",
    "print (str)\n",
    "\n"
   ]
  },
  {
   "cell_type": "code",
   "execution_count": null,
   "metadata": {},
   "outputs": [],
   "source": []
  }
 ],
 "metadata": {
  "kernelspec": {
   "display_name": "Python 3",
   "language": "python",
   "name": "python3"
  },
  "language_info": {
   "codemirror_mode": {
    "name": "ipython",
    "version": 3
   },
   "file_extension": ".py",
   "mimetype": "text/x-python",
   "name": "python",
   "nbconvert_exporter": "python",
   "pygments_lexer": "ipython3",
   "version": "3.7.4"
  }
 },
 "nbformat": 4,
 "nbformat_minor": 2
}
